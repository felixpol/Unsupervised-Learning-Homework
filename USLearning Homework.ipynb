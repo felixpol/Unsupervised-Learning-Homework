{
 "cells": [
  {
   "cell_type": "code",
   "execution_count": null,
   "id": "5c40223e",
   "metadata": {},
   "outputs": [],
   "source": [
    "import pandas as pd\n",
    "import matplotlib as plt\n",
    "from sklearn.preprocessing import StandardScaler, MinMaxScaler\n",
    "from sklearn.decomposition import PCA\n",
    "from sklearn.cluster import KMeans\n",
    "import pprint\n",
    "import json"
   ]
  },
  {
   "cell_type": "code",
   "execution_count": null,
   "id": "6dda9387",
   "metadata": {},
   "outputs": [],
   "source": [
    "crypto_df = \"Downloads/Homeworks/20-Unsupervised-Learning/Instructions/crypto_data.csv\"\n",
    "crypto_df = crypto_df.T\n",
    "crypto_df.head()"
   ]
  },
  {
   "cell_type": "code",
   "execution_count": null,
   "id": "57a02973",
   "metadata": {},
   "outputs": [],
   "source": [
    "crypto_df= crypto_df [[\"CoinName\", \"Algorith\", \"IsTrading\", \"ProofType\", \"TotalCoinsMined\", \"TotalCoinsSupply\"]]\n",
    "crypto_df= dropna()"
   ]
  },
  {
   "cell_type": "code",
   "execution_count": null,
   "id": "87f79407",
   "metadata": {},
   "outputs": [],
   "source": []
  },
  {
   "cell_type": "code",
   "execution_count": null,
   "id": "b38cf73b",
   "metadata": {},
   "outputs": [],
   "source": []
  },
  {
   "cell_type": "code",
   "execution_count": null,
   "id": "e0df4de5",
   "metadata": {},
   "outputs": [],
   "source": []
  },
  {
   "cell_type": "code",
   "execution_count": null,
   "id": "af82ee39",
   "metadata": {},
   "outputs": [],
   "source": []
  },
  {
   "cell_type": "code",
   "execution_count": null,
   "id": "e784c36e",
   "metadata": {},
   "outputs": [],
   "source": [
    "pca = PCA(n_components=3)\n",
    "\n",
    "crypto_pca = pca.fit_transform(crypto_scaled"
   ]
  },
  {
   "cell_type": "code",
   "execution_count": null,
   "id": "c27e4041",
   "metadata": {},
   "outputs": [],
   "source": [
    "pca_df=pd.dataframe(\n",
    "    data=crypto_df)"
   ]
  }
 ],
 "metadata": {
  "kernelspec": {
   "display_name": "Python 3",
   "language": "python",
   "name": "python3"
  },
  "language_info": {
   "codemirror_mode": {
    "name": "ipython",
    "version": 3
   },
   "file_extension": ".py",
   "mimetype": "text/x-python",
   "name": "python",
   "nbconvert_exporter": "python",
   "pygments_lexer": "ipython3",
   "version": "3.8.8"
  }
 },
 "nbformat": 4,
 "nbformat_minor": 5
}
